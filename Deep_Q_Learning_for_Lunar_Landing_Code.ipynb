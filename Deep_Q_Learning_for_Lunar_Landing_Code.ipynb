{
  "cells": [
    {
      "cell_type": "markdown",
      "metadata": {
        "id": "view-in-github",
        "colab_type": "text"
      },
      "source": [
        "<a href=\"https://colab.research.google.com/github/Thanjeet/Deep_Q_Learning_for_Lunar_Landing/blob/main/Deep_Q_Learning_for_Lunar_Landing_Code.ipynb\" target=\"_parent\"><img src=\"https://colab.research.google.com/assets/colab-badge.svg\" alt=\"Open In Colab\"/></a>"
      ]
    },
    {
      "cell_type": "markdown",
      "metadata": {
        "id": "LbZcI9ZXHl3a"
      },
      "source": [
        "# Deep Q-Learning for Lunar Landing"
      ]
    },
    {
      "cell_type": "markdown",
      "metadata": {
        "id": "E8yPRjteXgPb"
      },
      "source": [
        "## Part 0 - Installing the required packages and importing the libraries"
      ]
    },
    {
      "cell_type": "markdown",
      "metadata": {
        "id": "slEm5teGWjWU"
      },
      "source": [
        "### Installing Gymnasium"
      ]
    },
    {
      "cell_type": "code",
      "execution_count": null,
      "metadata": {
        "id": "dbnq3XpoKa_7",
        "colab": {
          "base_uri": "https://localhost:8080/"
        },
        "outputId": "835e7666-27e1-4d61-a49f-eb883e67242b"
      },
      "outputs": [
        {
          "output_type": "stream",
          "name": "stdout",
          "text": [
            "Requirement already satisfied: gymnasium in /usr/local/lib/python3.10/dist-packages (0.29.1)\n",
            "Requirement already satisfied: numpy>=1.21.0 in /usr/local/lib/python3.10/dist-packages (from gymnasium) (1.26.4)\n",
            "Requirement already satisfied: cloudpickle>=1.2.0 in /usr/local/lib/python3.10/dist-packages (from gymnasium) (2.2.1)\n",
            "Requirement already satisfied: typing-extensions>=4.3.0 in /usr/local/lib/python3.10/dist-packages (from gymnasium) (4.12.2)\n",
            "Requirement already satisfied: farama-notifications>=0.0.1 in /usr/local/lib/python3.10/dist-packages (from gymnasium) (0.0.4)\n",
            "Requirement already satisfied: gymnasium[accept-rom-license,atari] in /usr/local/lib/python3.10/dist-packages (0.29.1)\n",
            "Requirement already satisfied: numpy>=1.21.0 in /usr/local/lib/python3.10/dist-packages (from gymnasium[accept-rom-license,atari]) (1.26.4)\n",
            "Requirement already satisfied: cloudpickle>=1.2.0 in /usr/local/lib/python3.10/dist-packages (from gymnasium[accept-rom-license,atari]) (2.2.1)\n",
            "Requirement already satisfied: typing-extensions>=4.3.0 in /usr/local/lib/python3.10/dist-packages (from gymnasium[accept-rom-license,atari]) (4.12.2)\n",
            "Requirement already satisfied: farama-notifications>=0.0.1 in /usr/local/lib/python3.10/dist-packages (from gymnasium[accept-rom-license,atari]) (0.0.4)\n",
            "Requirement already satisfied: shimmy<1.0,>=0.1.0 in /usr/local/lib/python3.10/dist-packages (from shimmy[atari]<1.0,>=0.1.0; extra == \"atari\"->gymnasium[accept-rom-license,atari]) (0.2.1)\n",
            "Requirement already satisfied: autorom~=0.4.2 in /usr/local/lib/python3.10/dist-packages (from autorom[accept-rom-license]~=0.4.2; extra == \"accept-rom-license\"->gymnasium[accept-rom-license,atari]) (0.4.2)\n",
            "Requirement already satisfied: click in /usr/local/lib/python3.10/dist-packages (from autorom~=0.4.2->autorom[accept-rom-license]~=0.4.2; extra == \"accept-rom-license\"->gymnasium[accept-rom-license,atari]) (8.1.7)\n",
            "Requirement already satisfied: requests in /usr/local/lib/python3.10/dist-packages (from autorom~=0.4.2->autorom[accept-rom-license]~=0.4.2; extra == \"accept-rom-license\"->gymnasium[accept-rom-license,atari]) (2.32.3)\n",
            "Requirement already satisfied: tqdm in /usr/local/lib/python3.10/dist-packages (from autorom~=0.4.2->autorom[accept-rom-license]~=0.4.2; extra == \"accept-rom-license\"->gymnasium[accept-rom-license,atari]) (4.66.5)\n",
            "Requirement already satisfied: AutoROM.accept-rom-license in /usr/local/lib/python3.10/dist-packages (from autorom[accept-rom-license]~=0.4.2; extra == \"accept-rom-license\"->gymnasium[accept-rom-license,atari]) (0.6.1)\n",
            "Requirement already satisfied: ale-py~=0.8.1 in /usr/local/lib/python3.10/dist-packages (from shimmy[atari]<1.0,>=0.1.0; extra == \"atari\"->gymnasium[accept-rom-license,atari]) (0.8.1)\n",
            "Requirement already satisfied: importlib-resources in /usr/local/lib/python3.10/dist-packages (from ale-py~=0.8.1->shimmy[atari]<1.0,>=0.1.0; extra == \"atari\"->gymnasium[accept-rom-license,atari]) (6.4.5)\n",
            "Requirement already satisfied: charset-normalizer<4,>=2 in /usr/local/lib/python3.10/dist-packages (from requests->autorom~=0.4.2->autorom[accept-rom-license]~=0.4.2; extra == \"accept-rom-license\"->gymnasium[accept-rom-license,atari]) (3.3.2)\n",
            "Requirement already satisfied: idna<4,>=2.5 in /usr/local/lib/python3.10/dist-packages (from requests->autorom~=0.4.2->autorom[accept-rom-license]~=0.4.2; extra == \"accept-rom-license\"->gymnasium[accept-rom-license,atari]) (3.10)\n",
            "Requirement already satisfied: urllib3<3,>=1.21.1 in /usr/local/lib/python3.10/dist-packages (from requests->autorom~=0.4.2->autorom[accept-rom-license]~=0.4.2; extra == \"accept-rom-license\"->gymnasium[accept-rom-license,atari]) (2.2.3)\n",
            "Requirement already satisfied: certifi>=2017.4.17 in /usr/local/lib/python3.10/dist-packages (from requests->autorom~=0.4.2->autorom[accept-rom-license]~=0.4.2; extra == \"accept-rom-license\"->gymnasium[accept-rom-license,atari]) (2024.8.30)\n",
            "Reading package lists... Done\n",
            "Building dependency tree... Done\n",
            "Reading state information... Done\n",
            "swig is already the newest version (4.0.2-1ubuntu1).\n",
            "0 upgraded, 0 newly installed, 0 to remove and 49 not upgraded.\n",
            "Requirement already satisfied: gymnasium[box2d] in /usr/local/lib/python3.10/dist-packages (0.29.1)\n",
            "Requirement already satisfied: numpy>=1.21.0 in /usr/local/lib/python3.10/dist-packages (from gymnasium[box2d]) (1.26.4)\n",
            "Requirement already satisfied: cloudpickle>=1.2.0 in /usr/local/lib/python3.10/dist-packages (from gymnasium[box2d]) (2.2.1)\n",
            "Requirement already satisfied: typing-extensions>=4.3.0 in /usr/local/lib/python3.10/dist-packages (from gymnasium[box2d]) (4.12.2)\n",
            "Requirement already satisfied: farama-notifications>=0.0.1 in /usr/local/lib/python3.10/dist-packages (from gymnasium[box2d]) (0.0.4)\n",
            "Requirement already satisfied: box2d-py==2.3.5 in /usr/local/lib/python3.10/dist-packages (from gymnasium[box2d]) (2.3.5)\n",
            "Requirement already satisfied: pygame>=2.1.3 in /usr/local/lib/python3.10/dist-packages (from gymnasium[box2d]) (2.6.1)\n",
            "Requirement already satisfied: swig==4.* in /usr/local/lib/python3.10/dist-packages (from gymnasium[box2d]) (4.2.1)\n"
          ]
        }
      ],
      "source": [
        "!pip install gymnasium\n",
        "!pip install \"gymnasium[atari, accept-rom-license]\"\n",
        "!apt-get install -y swig\n",
        "!pip install gymnasium[box2d]\n"
      ]
    },
    {
      "cell_type": "markdown",
      "metadata": {
        "id": "brqiMN3UW9T9"
      },
      "source": [
        "### Importing the libraries"
      ]
    },
    {
      "cell_type": "code",
      "execution_count": null,
      "metadata": {
        "id": "mZaKXP_aMl9O"
      },
      "outputs": [],
      "source": [
        "import os\n",
        "import random\n",
        "import numpy as np\n",
        "import torch\n",
        "import torch.nn as nn\n",
        "import torch.optim as optim\n",
        "import torch.nn.functional as F\n",
        "import torch.autograd as autograd\n",
        "from torch.autograd import Variable\n",
        "from collections import deque, namedtuple"
      ]
    },
    {
      "cell_type": "markdown",
      "metadata": {
        "id": "EzlDKXvkXzGI"
      },
      "source": [
        "## Part 1 - Building the AI"
      ]
    },
    {
      "cell_type": "markdown",
      "metadata": {
        "id": "UtG6Zc83YYy3"
      },
      "source": [
        "### Creating the architecture of the Neural Network"
      ]
    },
    {
      "cell_type": "code",
      "source": [
        "class Network(nn.Module):\n",
        "  def __init__(self, state_size, action_size, seed = 42):\n",
        "      super(Network, self).__init__()\n",
        "      self.seed = torch.manual_seed(seed)\n",
        "      self.fc1 = nn.Linear(state_size, 64) # fc represents the fully connected layer\n",
        "      self.fc2 = nn.Linear(64, 64)\n",
        "      self.fc3 = nn.Linear(64, action_size)\n",
        "\n",
        "  def forward (self, state):\n",
        "    x = self.fc1(state)\n",
        "    x = F.relu(x)\n",
        "    x = self.fc2(x)\n",
        "    x = F.relu(x)\n",
        "    return self.fc3(x)"
      ],
      "metadata": {
        "id": "EoiiW4ieqLFa"
      },
      "execution_count": null,
      "outputs": []
    },
    {
      "cell_type": "markdown",
      "metadata": {
        "id": "UxVrBnFWZKb1"
      },
      "source": [
        "## Part 2 - Training the AI"
      ]
    },
    {
      "cell_type": "markdown",
      "metadata": {
        "id": "T364fz9qZb2j"
      },
      "source": [
        "### Setting up the environment"
      ]
    },
    {
      "cell_type": "code",
      "source": [
        "import gymnasium as gym\n",
        "env = gym.make('LunarLander-v2')\n",
        "state_shape = env.observation_space.shape\n",
        "state_size = env.observation_space.shape[0]\n",
        "number_actions = env.action_space.n\n",
        "print('State shape: ', state_shape)\n",
        "print('State size: ', state_size)\n",
        "print('Number of actions: ', number_actions)"
      ],
      "metadata": {
        "colab": {
          "base_uri": "https://localhost:8080/"
        },
        "id": "Nz4M3S0vs9Dt",
        "outputId": "4b518ee8-ad53-4f8c-aea3-8d9c162373c2"
      },
      "execution_count": null,
      "outputs": [
        {
          "output_type": "stream",
          "name": "stdout",
          "text": [
            "State shape:  (8,)\n",
            "State size:  8\n",
            "Number of actions:  4\n"
          ]
        }
      ]
    },
    {
      "cell_type": "markdown",
      "metadata": {
        "id": "c_dZmOIvZgj-"
      },
      "source": [
        "### Initializing the hyperparameters"
      ]
    },
    {
      "cell_type": "code",
      "source": [
        "learning_rate = 5e-4\n",
        "minibatch_size = 100\n",
        "discount_factor = 0.99\n",
        "replay_buffer_size = int(1e5)\n",
        "interpolation_parameter = 1e-3"
      ],
      "metadata": {
        "id": "7BsL7JLsuHQ2"
      },
      "execution_count": null,
      "outputs": []
    },
    {
      "cell_type": "markdown",
      "metadata": {
        "id": "8hD_Vs-bYnip"
      },
      "source": [
        "### Implementing Experience Replay"
      ]
    },
    {
      "cell_type": "code",
      "source": [
        "class ReplayMemory(object):\n",
        "\n",
        "  def __init__(self, capacity):\n",
        "     self.device = torch.device(\"cuda:0\" if torch.cuda.is_available() else \"cpu\")\n",
        "     self.capacity = capacity\n",
        "     self.memory = []\n",
        "\n",
        "\n",
        "  def push(self, event):\n",
        "    self.memory.append(event)\n",
        "    if len(self.memory) > self.capacity:\n",
        "      del self.memory[0]\n",
        "\n",
        "\n",
        "  def sample(self, batch_size):\n",
        "    experiences = random.sample(self.memory, k = batch_size)\n",
        "    states = torch.from_numpy(np.vstack([e[0] for e in experiences if e is not None])).float().to(self.device)\n",
        "    actions = torch.from_numpy(np.vstack([e[1] for e in experiences if e is not None])).long().to(self.device)\n",
        "    rewards = torch.from_numpy(np.vstack([e[2] for e in experiences if e is not None])).float().to(self.device)\n",
        "    next_states = torch.from_numpy(np.vstack([e[3] for e in experiences if e is not None])).float().to(self.device)\n",
        "    dones = torch.from_numpy(np.vstack([e[4] for e in experiences if e is not None]).astype(np.uint8)).float().to(self.device)\n",
        "    return states, next_states, actions, rewards, dones\n"
      ],
      "metadata": {
        "id": "3tBnWT9svCQ8"
      },
      "execution_count": null,
      "outputs": []
    },
    {
      "cell_type": "markdown",
      "metadata": {
        "id": "JmEkbFbUY6Jt"
      },
      "source": [
        "### Implementing the DQN class"
      ]
    },
    {
      "cell_type": "code",
      "source": [
        "class Agent():\n",
        "\n",
        "  def __init__(self, state_size, action_size):\n",
        "     self.device = torch.device(\"cuda:0\" if torch.cuda.is_available() else \"cpu\")\n",
        "     self.state_size = state_size\n",
        "     self.action_size = action_size\n",
        "     self.local_qnetwork = Network (state_size, action_size).to(self.device)\n",
        "     self.target_qnetwork = Network (state_size, action_size).to(self.device)\n",
        "     self.optimizer = optim.Adam(self.local_qnetwork.parameters(), lr = learning_rate)\n",
        "     self.memory = ReplayMemory(replay_buffer_size)\n",
        "     self.t_step = 0\n",
        "\n",
        "  def step(self, state, action, reward, next_state, done):\n",
        "    self.memory.push((state, action, reward, next_state, done))\n",
        "    self.t_step = (self.t_step + 1) % 4\n",
        "    if self.t_step == 0:\n",
        "      if len(self.memory.memory) > minibatch_size :\n",
        "        experiences = self.memory.sample(100)\n",
        "        self.learn(experiences, discount_factor)\n",
        "\n",
        "  def act(self, state, epsilon = 0.):\n",
        "    state = torch.from_numpy(state).float().unsqueeze(0).to(self.device)\n",
        "    self.local_qnetwork.eval()\n",
        "    with torch.no_grad() :\n",
        "      action_values = self.local_qnetwork(state)\n",
        "    self.local_qnetwork.train()\n",
        "    if random.random() > epsilon:\n",
        "      return np.argmax(action_values.cpu().data.numpy())\n",
        "    else:\n",
        "      return random.choice(np.arange(self.action_size))\n",
        "\n",
        "  def learn(self, experiences, discount_factor):\n",
        "    states, next_states, actions, rewards, dones = experiences\n",
        "    next_q_targets = self.target_qnetwork(next_states).detach().max(1)[0].unsqueeze(1)\n",
        "    q_targets = rewards + (discount_factor * next_q_targets * (1-dones))\n",
        "    q_expected =   self.local_qnetwork(states).gather(1, actions)\n",
        "    loss = F.mse_loss(q_expected, q_targets)\n",
        "    self.optimizer.zero_grad()\n",
        "    loss.backward()\n",
        "    self.optimizer.step()\n",
        "    self.soft_update(self.local_qnetwork, self.target_qnetwork, interpolation_parameter)\n",
        "\n",
        "  def soft_update(slef, local_model, target_model, interpolation_parameter):\n",
        "    for target_param, local_param in zip(target_model.parameters(),local_model.parameters()):\n",
        "      target_param.data.copy_(interpolation_parameter * local_param.data + (1.0 - interpolation_parameter)*target_param.data)\n",
        "\n"
      ],
      "metadata": {
        "id": "31tgG9u6xwxZ"
      },
      "execution_count": null,
      "outputs": []
    },
    {
      "cell_type": "markdown",
      "metadata": {
        "id": "o1tZElccZmf6"
      },
      "source": [
        "### Initializing the DQN agent"
      ]
    },
    {
      "cell_type": "code",
      "source": [
        "agent = Agent(state_size, number_actions)"
      ],
      "metadata": {
        "id": "qb4Q0d6N5jPR"
      },
      "execution_count": null,
      "outputs": []
    },
    {
      "cell_type": "markdown",
      "metadata": {
        "id": "E8v0PtUfaVQp"
      },
      "source": [
        "### Training the DQN agent"
      ]
    },
    {
      "cell_type": "code",
      "source": [
        "number_episodes = 2000\n",
        "max_t = 1000 #maximum number timesteps per episode\n",
        "eps_start = 1.0 #epsilon starting value\n",
        "eps_end = 0.01 #epsilon ending value\n",
        "eps_decay = 0.995 #epsilon decay rate\n",
        "epsilon = eps_start\n",
        "scores_on_100_episodes = deque(maxlen = 100) #scores on 100 episodes\n",
        "\n",
        "for episode in range(1, number_episodes +1):\n",
        "  state, _ = env.reset()\n",
        "  score = 0\n",
        "  for t in range(max_t):\n",
        "    action = agent.act(state, epsilon)\n",
        "    next_state, reward, done, _, _ = env.step(action)\n",
        "    agent.step(state, action, reward, next_state, done)\n",
        "    state = next_state\n",
        "    score += reward\n",
        "    if done:\n",
        "      break\n",
        "  scores_on_100_episodes.append(score)\n",
        "  epsilon = max(eps_end, eps_decay * epsilon)\n",
        "  print('\\rEpisode {}\\tAverage Score: {:.2f}'.format(episode, np.mean(scores_on_100_episodes)), end=\"\")\n",
        "  if episode % 100 == 0:\n",
        "    print('\\rEpisode {}\\tAverage Score: {:.2f}'.format(episode, np.mean(scores_on_100_episodes)))\n",
        "  if np.mean(scores_on_100_episodes) >= 200.0:\n",
        "    print('\\nEnvironment solved in {:d} episodes!\\tAverage Score: {:.2f}'.format(episode-100, np.mean(scores_on_100_episodes)))\n",
        "    torch.save(agent.local_qnetwork.state_dict(), 'checkpoint.pth')\n",
        "    break"
      ],
      "metadata": {
        "colab": {
          "base_uri": "https://localhost:8080/"
        },
        "id": "Jin9u2QH57d_",
        "outputId": "7a20e4a9-8d6c-4287-da37-6408f3a62e77"
      },
      "execution_count": null,
      "outputs": [
        {
          "output_type": "stream",
          "name": "stdout",
          "text": [
            "Episode 100\tAverage Score: -168.16\n",
            "Episode 200\tAverage Score: -112.71\n",
            "Episode 300\tAverage Score: -70.95\n",
            "Episode 400\tAverage Score: -11.27\n",
            "Episode 500\tAverage Score: 9.72\n",
            "Episode 600\tAverage Score: 115.02\n",
            "Episode 700\tAverage Score: 186.60\n",
            "Episode 749\tAverage Score: 200.79\n",
            "Environment solved in 649 episodes!\tAverage Score: 200.79\n"
          ]
        }
      ]
    },
    {
      "cell_type": "markdown",
      "metadata": {
        "id": "O8CNwdOTcCoP"
      },
      "source": [
        "## Part 3 - Visualizing the results"
      ]
    },
    {
      "cell_type": "code",
      "execution_count": null,
      "metadata": {
        "id": "cb9nVvU2Okhk",
        "colab": {
          "base_uri": "https://localhost:8080/",
          "height": 459
        },
        "outputId": "e040ccec-c598-4232-88ba-e8cab05e7cea"
      },
      "outputs": [
        {
          "output_type": "stream",
          "name": "stderr",
          "text": [
            "WARNING:imageio_ffmpeg:IMAGEIO FFMPEG_WRITER WARNING: input image is not divisible by macro_block_size=16, resizing from (600, 400) to (608, 400) to ensure video compatibility with most codecs and players. To prevent resizing, make your input image divisible by the macro_block_size or set the macro_block_size to 1 (risking incompatibility).\n"
          ]
        },
        {
          "output_type": "display_data",
          "data": {
            "text/plain": [
              "<IPython.core.display.HTML object>"
            ],
            "text/html": [
              "<video alt=\"test\" autoplay\n",
              "                loop controls style=\"height: 400px;\">\n",
              "                <source src=\"data:video/mp4;base64,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\" type=\"video/mp4\" />\n",
              "             </video>"
            ]
          },
          "metadata": {}
        }
      ],
      "source": [
        "import glob\n",
        "import io\n",
        "import base64\n",
        "import imageio\n",
        "from IPython.display import HTML, display\n",
        "from gym.wrappers.monitoring.video_recorder import VideoRecorder\n",
        "\n",
        "def show_video_of_model(agent, env_name):\n",
        "    env = gym.make(env_name, render_mode='rgb_array')\n",
        "    state, _ = env.reset()\n",
        "    done = False\n",
        "    frames = []\n",
        "    while not done:\n",
        "        frame = env.render()\n",
        "        frames.append(frame)\n",
        "        action = agent.act(state)\n",
        "        state, reward, done, _, _ = env.step(action.item())\n",
        "    env.close()\n",
        "    imageio.mimsave('video.mp4', frames, fps=30)\n",
        "\n",
        "show_video_of_model(agent, 'LunarLander-v2')\n",
        "\n",
        "def show_video():\n",
        "    mp4list = glob.glob('*.mp4')\n",
        "    if len(mp4list) > 0:\n",
        "        mp4 = mp4list[0]\n",
        "        video = io.open(mp4, 'r+b').read()\n",
        "        encoded = base64.b64encode(video)\n",
        "        display(HTML(data='''<video alt=\"test\" autoplay\n",
        "                loop controls style=\"height: 400px;\">\n",
        "                <source src=\"data:video/mp4;base64,{0}\" type=\"video/mp4\" />\n",
        "             </video>'''.format(encoded.decode('ascii'))))\n",
        "    else:\n",
        "        print(\"Could not find video\")\n",
        "\n",
        "show_video()"
      ]
    }
  ],
  "metadata": {
    "colab": {
      "provenance": [],
      "include_colab_link": true
    },
    "kernelspec": {
      "display_name": "Python 3",
      "name": "python3"
    },
    "language_info": {
      "name": "python"
    }
  },
  "nbformat": 4,
  "nbformat_minor": 0
}